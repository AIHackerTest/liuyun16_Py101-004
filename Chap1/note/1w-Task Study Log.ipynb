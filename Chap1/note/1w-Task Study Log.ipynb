{
 "cells": [
  {
   "cell_type": "markdown",
   "metadata": {},
   "source": [
    "# 170814 1wd1\n",
    "### 任务列表\n",
    "- 学习卡包\n",
    "- 浏览同学们的作业提交情况，\n",
    "- 构思作业实现途径\n",
    "\n",
    "### 探索记录\n",
    "- 今天投入多长时间练习编程，探索了哪些技能点？\n",
    "   - 浏览同学们的作业提交情况(`1h`)\n",
    "     发现thxiami同学的，无论从[**教程**](https://github.com/thxiami/Py101-004/blob/master/Chap0/note/Python_Tutorial.ipynb)还是[**学习记录**](https://github.com/thxiami/Py101-004/blob/master/Chap0/note/Log_0w.md)都被震惊到了，超级详细，看了他的，对比了自己的差距比较大。因此准备向他学习。\n",
    "    - 浏览卡包\n",
    "       - 分解任务\n",
    "       - MVP理念\n",
    "       - 阅读官方文档的建议\n",
    "       > 优先选取官方文档，是正确的学习姿势。以下官方文档，就藏着解决问题的密钥：\n",
    "         - 4. Built-in Types — Python 3.6.2 documentation\n",
    "         - 5.5 dictionaries - Data Structures — Python 3.6.2 documentation\n",
    "         - 5.6 Looping Techniques - Data Structures — Python 3.6.2 documentation\n",
    "      \n",
    "   - 需要重新查看官方文档关于dict数据类型的。\n",
    "      - 复习笨办法学Python，ex39.py，0.5h;\n",
    "      - 查看关于dict官方文档，学习到dict数据类型，由key-value组成，且是一种用“内存空间换取高效检索时间”的存储方式；\n",
    "      "
   ]
  },
  {
   "cell_type": "markdown",
   "metadata": {},
   "source": [
    "- 分别花费了多少时间、探索到什么程度\n",
    "\n",
    "### 复盘&改进：\n",
    "- 今天有哪些收获？\n",
    "\n",
    "- 有哪些有用的经验、技巧可以在未来**复用**？\n",
    "  #### 关于学习记录\n",
    "  - 提炼了一份学习记录的模板: 如下\n",
    "*******************************************************************\n",
    "  ## 【绝对日期】 [课程相对日期]\n",
    "### 任务列表\n",
    "\n",
    "\n",
    "### 探索记录\n",
    "- 今天投入多长时间练习编程，探索了哪些技能点\n",
    "   - 分享任务、活动（计时h）\n",
    "- 分别花费了多少时间、探索到什么程度\n",
    "\n",
    "### 复盘&改进：\n",
    "- 今天有哪些收获？\n",
    "- 有哪些有用的经验、技巧可以在未来**复用**？\n",
    "- 有哪些做的不好？打算如何改进？\n",
    "\n",
    "  \n",
    "- 有哪些做的不好？打算如何改进？\n",
    "\n",
    "----\n",
    "\n",
    "出处及案例：请参考：[thxiami学习记录](https://github.com/thxiami/Py101-004/blob/master/Chap0/note/Log_0w.md)\n",
    "\n",
    "  - 从上面可以看出，学习记录是十分耗费时间的，但是正如虾米同学所述，刚开始难，耗时长，**形成自己的框架和风格之后**，会找到正确的记录步骤。\n",
    "  - 记录的客观作用，只有**诚实地记录**，才能发现自己真正不进步地原因很可能就是因为：投入的时间太少！"
   ]
  },
  {
   "cell_type": "markdown",
   "metadata": {},
   "source": [
    "## 170817-18 1wd4-5\n",
    "### 任务列表\n",
    " - 学习字符编码\n",
    " - 学习文件的读取\n",
    " - 学习特定格式文本到字典的转换\n",
    " -  调试程序。\n",
    "\n",
    "### 探索记录\n",
    "- 今天投入多长时间练习编程，探索了哪些技能点\n",
    "   - 分享任务、活动（计时h）\n",
    "- 分别花费了多少时间、探索到什么程度\n",
    "\n",
    "### 复盘&改进：\n",
    "- 今天有哪些收获？\n",
    "- 有哪些有用的经验、技巧可以在未来**复用**？\n",
    "   - **及时, 善用google。**\n",
    "      昨天开始，因为`for x in file`+`readline()`错误，导致文件**隔行**读取，自己弄了好久（~3h）没有头绪，最后用google搞定了。\n",
    "   - **在合适的地方print， 找到错误。**\n",
    "     今天报错，`list out of index`最后发现是自己的测试文件最后读取的一行生成的list长度太短所致，之前一直`print`的位置不合适，未能发现错误。\n",
    "- 有哪些做的不好？打算如何改进？\n",
    "\n",
    "  \n",
    "- 有哪些做的不好？打算如何改进？\n",
    "   - 任务计时不明确，时间太零碎，无法统计任务耗时。"
   ]
  }
 ],
 "metadata": {
  "kernelspec": {
   "display_name": "Python 3",
   "language": "python",
   "name": "python3"
  },
  "language_info": {
   "codemirror_mode": {
    "name": "ipython",
    "version": 3
   },
   "file_extension": ".py",
   "mimetype": "text/x-python",
   "name": "python",
   "nbconvert_exporter": "python",
   "pygments_lexer": "ipython3",
   "version": "3.6.2"
  }
 },
 "nbformat": 4,
 "nbformat_minor": 2
}

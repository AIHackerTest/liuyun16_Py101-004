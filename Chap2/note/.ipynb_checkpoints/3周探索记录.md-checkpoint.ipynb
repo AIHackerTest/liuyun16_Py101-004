{
 "cells": [
  {
   "cell_type": "markdown",
   "metadata": {},
   "source": [
    "\n",
    "[TOC]\n",
    "\n",
    "## 术语卡学习：API[`40'`]\n",
    "*   API 是什么，解决什么问题？\n",
    " - 定义:**Application Programming Interface** (**API**) is a set of [subroutine](https://en.wikipedia.org/wiki/Subroutine \"Subroutine\") definitions, protocols, and tools for building [application software](https://en.wikipedia.org/wiki/Application_software \"Application software\"). 可以将API看成一个程序与程序之间的窗户，方便之间的通信与数据、功能的交换。两个程序包括同一操作系统的不同程序，以及本地程序与远程服务器程序，与网页程序之间。\n",
    " 这种交换是基于特定数据，或这特定功能的接口，可以不暴露提供功能的基元程序的内部代码而实现相应功能的实现。因此利于某种程序功能的实现。\n",
    "\n",
    "*   API 一般接收什么输入，返回什么数据？\n",
    "  - 接受特定格式的request请求输入，返回特定格式的数据。\n",
    "\n",
    "*   互联网上有哪些类型的 API ？他们为什么要把 API 开放出来？\n",
    "  - 私有、合作API和公有。公有API利于构建相应公司的软件生态，方便相关的软件开发者在其平台上进行相应的开发。\n",
    "\n",
    "\n",
    "参考：\n",
    "- [What APIs Are And Why They're Important - ReadWrite](http://readwrite.com/2013/09/19/api-defined/)\n",
    "- [Application programming interface - Wikipedia](https://en.wikipedia.org/wiki/Application_programming_interface)\n",
    "\n",
    "## 选取一个API，进行测试学习。\n",
    "  - 注册心知天气，openweatherMap，准备试用这两个API。\n",
    "  - 如何开始？[看完这些API的doc之后，基本一无所知，花费`30 min`，继续按卡片进行任务]\n",
    "  - 安装request模块[`5 min`]\n",
    "    - request模块的**功能**：基于Python对**请求和接受**的数据进行封装，且可以通过HTTPS协议在互联网上传输。\n",
    "\t-  [Requests: HTTP for Humans](http://www.python-requests.org/en/master/)\n",
    "  - 测试request模块\n",
    "     - `import request\n",
    "\t r = requests.get('https://api.github.com/events')`\n",
    "\t\t \n",
    "\t- [心知天气-API-Python的demo](https://github.com/seniverse/seniverse-api-demos/blob/master/python/demo-requests.py)\n",
    "   - 尝试从心知天气API中请求一个城市的地址[`0.6 h`]\n",
    "   requests模块，`get`方法的格式为：`requests.get(API URL, params)`\n",
    "   从心知天气的[说明文档](https://www.seniverse.com/doc#language)可知，其request请求的params格式为：\n",
    "   \n",
    "    ```\n",
    "    para={\n",
    "        'key': 'r7rnc5ggi9g3xpxv',\n",
    "        'location': 'beijing',\n",
    "        'language': 'zh-Hans', #可缺省为中文简体\n",
    "        'unit': 'c'，#可缺省为摄氏度。\n",
    "        }\n",
    "        \n",
    "    ```"
   ]
  },
  {
   "cell_type": "code",
   "execution_count": 23,
   "metadata": {},
   "outputs": [
    {
     "name": "stdout",
     "output_type": "stream",
     "text": [
      "https://api.seniverse.com/v3/weather/now.json?key=r7rnc5ggi9g3xpxv&location=%E5%8C%97%E4%BA%AC&language=zh-Hans&unit=f\n",
      "{\"results\":[{\"location\":{\"id\":\"WX4FBXXFKE4F\",\"name\":\"北京\",\"country\":\"CN\",\"path\":\"北京,北京,中国\",\"timezone\":\"Asia/Shanghai\",\"timezone_offset\":\"+08:00\"},\"now\":{\"text\":\"阴\",\"code\":\"9\",\"temperature\":\"84\"},\"last_update\":\"2017-08-21T20:25:00+08:00\"}]} utf-8\n",
      "\n",
      "{'results': [{'location': {'id': 'WX4FBXXFKE4F', 'name': '北京', 'country': 'CN', 'path': '北京,北京,中国', 'timezone': 'Asia/Shanghai', 'timezone_offset': '+08:00'}, 'now': {'text': '阴', 'code': '9', 'temperature': '84'}, 'last_update': '2017-08-21T20:25:00+08:00'}]}\n"
     ]
    }
   ],
   "source": [
    "import requests\n",
    "\n",
    "para={\n",
    "        'key': 'r7rnc5ggi9g3xpxv',\n",
    "        'location': '北京',\n",
    "        'language': 'zh-Hans', # 可缺省为中文简体\n",
    "        'unit':'f'# 可缺省为c摄氏度。参数不能加空格。\n",
    "        }\n",
    "r =requests.get('https://api.seniverse.com/v3/weather/now.json', params=para)\n",
    "\n",
    "print(r.url) #生成的是https格式的URL地址。\n",
    "print(r.text, r. encoding)\n",
    "\n",
    "print(f\"\\n{r.json()}\")\n"
   ]
  },
  {
   "cell_type": "markdown",
   "metadata": {},
   "source": [
    "## 学习json的语法\n",
    "目标：从不同层级的object里面提取自己需要的信息，如weather，温度，时间。"
   ]
  },
  {
   "cell_type": "code",
   "execution_count": 2,
   "metadata": {
    "scrolled": true
   },
   "outputs": [
    {
     "name": "stdout",
     "output_type": "stream",
     "text": [
      "<class 'requests.models.Response'>\n",
      "https://api.seniverse.com/v3/weather/now.json?key=r7rnc5ggi9g3xpxv&location=%E6%B4%9B%E9%98%B3&language=zh-Hans&unit=c\n",
      "{\"results\":[{\"location\":{\"id\":\"WQPUYY7S4GV2\",\"name\":\"洛阳\",\"country\":\"CN\",\"path\":\"洛阳,洛阳,河南,中国\",\"timezone\":\"Asia/Shanghai\",\"timezone_offset\":\"+08:00\"},\"now\":{\"text\":\"晴\",\"code\":\"0\",\"temperature\":\"36\"},\"last_update\":\"2017-08-24T16:35:00+08:00\"}]} utf-8\n",
      "<class 'str'>\n",
      "\n",
      "{'results': [{'location': {'id': 'WQPUYY7S4GV2', 'name': '洛阳', 'country': 'CN', 'path': '洛阳,洛阳,河南,中国', 'timezone': 'Asia/Shanghai', 'timezone_offset': '+08:00'}, 'now': {'text': '晴', 'code': '0', 'temperature': '36'}, 'last_update': '2017-08-24T16:35:00+08:00'}]}\n",
      "r1 type is <class 'dict'>\n",
      "{'results': [{'last_update': '2017-08-24T16:35:00+08:00',\n",
      "              'location': {'country': 'CN',\n",
      "                           'id': 'WQPUYY7S4GV2',\n",
      "                           'name': '洛阳',\n",
      "                           'path': '洛阳,洛阳,河南,中国',\n",
      "                           'timezone': 'Asia/Shanghai',\n",
      "                           'timezone_offset': '+08:00'},\n",
      "              'now': {'code': '0', 'temperature': '36', 'text': '晴'}}]}\n",
      "洛阳\n",
      "晴\n",
      "36\n",
      "2017-08-24T16:35:00+08:00\n"
     ]
    }
   ],
   "source": [
    "import requests\n",
    "import json\n",
    "import pprint\n",
    "\n",
    "para={\n",
    "        'key': 'r7rnc5ggi9g3xpxv',\n",
    "        'location': '洛阳',\n",
    "        'language': 'zh-Hans', # 可缺省为中文简体\n",
    "        'unit':'c'# 可缺省为c摄氏度。参数不能加空格。\n",
    "        }\n",
    "r =requests.get('https://api.seniverse.com/v3/weather/now.json', params=para)\n",
    "\n",
    "print(type(r))\n",
    "\n",
    "print(r.url) #生成的是https格式的URL地址。\n",
    "print(r.text, r. encoding)\n",
    "print(type(r.text))\n",
    "\n",
    "\n",
    "print(f\"\\n{r.json()}\")\n",
    "\n",
    "r1=r.json()\n",
    "print(f\"r1 type is {type(r1)}\")\n",
    "pprint.pprint(r1)\n",
    "\n",
    "r_load=json.loads(r.text)\n",
    "\n",
    "print(r1['results'][0]['location']['name'])\n",
    "\n",
    "print(r1['results'][0]['now']['text'])\n",
    "\n",
    "print(r1['results'][0]['now']['temperature'])\n",
    "\n",
    "print(r1['results'][0]['last_update'])\n",
    "\n",
    "#r2=r.json().get('results')\n",
    "\n",
    "#print(f\"{r2} ,  type is {type(r2)}\")\n",
    "\n",
    "#r3=r2[0]\n",
    "#print(f\"r3 is {r3}, the type is {type(r3)}\")"
   ]
  },
  {
   "cell_type": "markdown",
   "metadata": {},
   "source": [
    "**门槛**：json的多级嵌套类型如何提取？[`1h`]\n",
    "- 关于list和dict的多维操作时关键\n",
    "\n",
    "## 封装函数\n",
    "为了函数的可复用性，决定改写1w的作业，用函数进行封装。\n",
    "  - json结果解析函数+地址查询输入函数(`50min`)\n",
    "  \n",
    "  - 历史查询函数(`1h`)"
   ]
  },
  {
   "cell_type": "code",
   "execution_count": 74,
   "metadata": {},
   "outputs": [
    {
     "name": "stdout",
     "output_type": "stream",
     "text": [
      "请输入您想查询的地级城市名：beijing\n",
      "{'城市': '北京', '当前天气': '多云', '温度': '31', '更新时间': '2017-08-23T18:40:00'} <class 'dict'>\n"
     ]
    },
    {
     "ename": "AttributeError",
     "evalue": "'dict' object has no attribute 'upgrade'",
     "output_type": "error",
     "traceback": [
      "\u001b[1;31m---------------------------------------------------------------------------\u001b[0m",
      "\u001b[1;31mAttributeError\u001b[0m                            Traceback (most recent call last)",
      "\u001b[1;32m<ipython-input-74-fc947ee322df>\u001b[0m in \u001b[0;36m<module>\u001b[1;34m()\u001b[0m\n\u001b[0;32m     39\u001b[0m \u001b[0mr\u001b[0m \u001b[1;33m=\u001b[0m\u001b[0mrequests\u001b[0m\u001b[1;33m.\u001b[0m\u001b[0mget\u001b[0m\u001b[1;33m(\u001b[0m\u001b[1;34m'https://api.seniverse.com/v3/weather/now.json'\u001b[0m\u001b[1;33m,\u001b[0m \u001b[0minput_next\u001b[0m\u001b[1;33m)\u001b[0m\u001b[1;33m\u001b[0m\u001b[0m\n\u001b[0;32m     40\u001b[0m \u001b[1;33m\u001b[0m\u001b[0m\n\u001b[1;32m---> 41\u001b[1;33m \u001b[0mcheck\u001b[0m\u001b[1;33m=\u001b[0m\u001b[0mjson_parse\u001b[0m\u001b[1;33m(\u001b[0m\u001b[0mr\u001b[0m\u001b[1;33m)\u001b[0m\u001b[1;33m\u001b[0m\u001b[0m\n\u001b[0m",
      "\u001b[1;32m<ipython-input-74-fc947ee322df>\u001b[0m in \u001b[0;36mjson_parse\u001b[1;34m(json_xinzhi)\u001b[0m\n\u001b[0;32m     12\u001b[0m     \u001b[0mlast_upd\u001b[0m\u001b[1;33m=\u001b[0m\u001b[0mr1\u001b[0m\u001b[1;33m[\u001b[0m\u001b[1;34m'results'\u001b[0m\u001b[1;33m]\u001b[0m\u001b[1;33m[\u001b[0m\u001b[1;36m0\u001b[0m\u001b[1;33m]\u001b[0m\u001b[1;33m[\u001b[0m\u001b[1;34m'last_update'\u001b[0m\u001b[1;33m]\u001b[0m\u001b[1;33m[\u001b[0m\u001b[1;33m:\u001b[0m\u001b[1;33m-\u001b[0m\u001b[1;36m6\u001b[0m\u001b[1;33m]\u001b[0m\u001b[1;33m\u001b[0m\u001b[0m\n\u001b[0;32m     13\u001b[0m     \u001b[0mresult\u001b[0m\u001b[1;33m=\u001b[0m\u001b[1;33m{\u001b[0m\u001b[1;34m'城市'\u001b[0m\u001b[1;33m:\u001b[0m\u001b[0mcity_result\u001b[0m\u001b[1;33m,\u001b[0m \u001b[1;34m'当前天气'\u001b[0m\u001b[1;33m:\u001b[0m \u001b[0mwea_now\u001b[0m\u001b[1;33m,\u001b[0m \u001b[1;34m'温度'\u001b[0m\u001b[1;33m:\u001b[0m\u001b[0mtemp_now\u001b[0m\u001b[1;33m,\u001b[0m\u001b[1;34m'更新时间'\u001b[0m\u001b[1;33m:\u001b[0m\u001b[0mlast_upd\u001b[0m\u001b[1;33m}\u001b[0m\u001b[1;33m\u001b[0m\u001b[0m\n\u001b[1;32m---> 14\u001b[1;33m     \u001b[0mhist_inq\u001b[0m\u001b[1;33m(\u001b[0m\u001b[0mresult\u001b[0m\u001b[1;33m)\u001b[0m\u001b[1;33m\u001b[0m\u001b[0m\n\u001b[0m\u001b[0;32m     15\u001b[0m     \u001b[0mprint\u001b[0m\u001b[1;33m(\u001b[0m\u001b[1;34mf\"您说查询的城市：{city_result},当前天气为:{wea_now}，{temp_now}摄氏度,查询时间：{last_upd}\"\u001b[0m\u001b[1;33m)\u001b[0m\u001b[1;33m\u001b[0m\u001b[0m\n\u001b[0;32m     16\u001b[0m     \u001b[1;31m#print(result.items(),type(result))\u001b[0m\u001b[1;33m\u001b[0m\u001b[1;33m\u001b[0m\u001b[0m\n",
      "\u001b[1;32m<ipython-input-74-fc947ee322df>\u001b[0m in \u001b[0;36mhist_inq\u001b[1;34m(result_hist)\u001b[0m\n\u001b[0;32m     32\u001b[0m     \u001b[0mprint\u001b[0m\u001b[1;33m(\u001b[0m\u001b[0mresult_hist\u001b[0m\u001b[1;33m,\u001b[0m \u001b[0mtype\u001b[0m\u001b[1;33m(\u001b[0m\u001b[0mresult_hist\u001b[0m\u001b[1;33m)\u001b[0m\u001b[1;33m)\u001b[0m\u001b[1;33m\u001b[0m\u001b[0m\n\u001b[0;32m     33\u001b[0m     \u001b[1;32mfor\u001b[0m \u001b[0mx\u001b[0m\u001b[1;33m,\u001b[0m \u001b[0mv\u001b[0m \u001b[1;32min\u001b[0m \u001b[0mresult_hist\u001b[0m\u001b[1;33m:\u001b[0m\u001b[1;33m\u001b[0m\u001b[0m\n\u001b[1;32m---> 34\u001b[1;33m         \u001b[0mhist\u001b[0m\u001b[1;33m.\u001b[0m\u001b[0mupgrade\u001b[0m\u001b[1;33m(\u001b[0m\u001b[0mx\u001b[0m\u001b[1;33m=\u001b[0m\u001b[0mv\u001b[0m\u001b[1;33m)\u001b[0m\u001b[1;33m\u001b[0m\u001b[0m\n\u001b[0m\u001b[0;32m     35\u001b[0m     \u001b[0mprint\u001b[0m\u001b[1;33m(\u001b[0m\u001b[0mhist\u001b[0m\u001b[1;33m.\u001b[0m\u001b[0mitems\u001b[0m\u001b[1;33m(\u001b[0m\u001b[1;33m)\u001b[0m\u001b[1;33m)\u001b[0m\u001b[1;33m\u001b[0m\u001b[0m\n\u001b[0;32m     36\u001b[0m \u001b[1;33m\u001b[0m\u001b[0m\n",
      "\u001b[1;31mAttributeError\u001b[0m: 'dict' object has no attribute 'upgrade'"
     ]
    }
   ],
   "source": [
    "import requests\n",
    "import json\n",
    "\n",
    "def json_parse(json_xinzhi):\n",
    "    \"\"\"\n",
    "    专用于心知天气的API json类型的response解析\n",
    "    \"\"\"\n",
    "    r1=json_xinzhi.json() #或者r1=json.loads(r.text),得到的是dict{}类型，\n",
    "    city_result=r1['results'][0]['location']['name']\n",
    "    wea_now=r1['results'][0]['now']['text']\n",
    "    temp_now=r1['results'][0]['now']['temperature']\n",
    "    last_upd=r1['results'][0]['last_update'][:-6]\n",
    "    result={'城市':city_result, '当前天气': wea_now, '温度':temp_now,'更新时间':last_upd}\n",
    "    hist_inq(result)\n",
    "    print(f\"您说查询的城市：{city_result},当前天气为:{wea_now}，{temp_now}摄氏度,查询时间：{last_upd}\")\n",
    "    #print(result.items(),type(result))\n",
    "    return result\n",
    "\n",
    "\n",
    "def xz_para():\n",
    "    loca=input(\"请输入您想查询的地级城市名：\")\n",
    "    para={\n",
    "            'key': 'r7rnc5ggi9g3xpxv',\n",
    "            'location': loca,\n",
    "            'language': 'zh-Hans', # 可缺省为中文简体\n",
    "            'unit':'c'# 可缺省为c摄氏度。参数不能加空格。\n",
    "            }\n",
    "    return para\n",
    "\n",
    "def hist_inq(result_hist):\n",
    "    hist={}\n",
    "    print(result_hist, type(result_hist))\n",
    "    for x, v in result_hist:\n",
    "        hist.append(x=v)\n",
    "    print(hist.items())\n",
    "\n",
    "input_next=xz_para()\n",
    "\n",
    "r =requests.get('https://api.seniverse.com/v3/weather/now.json', input_next)\n",
    "\n",
    "check=json_parse(r)\n"
   ]
  },
  {
   "cell_type": "markdown",
   "metadata": {},
   "source": [
    "完成函数封装与调用:"
   ]
  },
  {
   "cell_type": "code",
   "execution_count": null,
   "metadata": {
    "collapsed": true
   },
   "outputs": [],
   "source": [
    "import requests\n",
    "import json\n",
    "\n",
    "def json_parse(json_xinzhi):\n",
    "    \"\"\"\n",
    "    专用于心知天气的API json类型的response解析\n",
    "    \"\"\"\n",
    "    r1=json_xinzhi.json() #或者r1=json.loads(r.text),得到的是dict{}类型，\n",
    "    city_result=r1['results'][0]['location']['name']\n",
    "    wea_now=r1['results'][0]['now']['text']\n",
    "    temp_now=r1['results'][0]['now']['temperature']\n",
    "    last_upd=r1['results'][0]['last_update'][:-6]\n",
    "    result={'城市':city_result, '当前天气': wea_now, '温度':temp_now,'更新时间':last_upd}\n",
    "    hist_inq(result)\n",
    "    print(f\"您查询的城市：{city_result},当前天气为:{wea_now}，{temp_now}摄氏度,查询时间：{last_upd}\")\n",
    "    #print(result.items(),type(result))\n",
    "    return result\n",
    "\n",
    "\n",
    "def xz_para(loca):\n",
    "    para={\n",
    "            'key': 'r7rnc5ggi9g3xpxv',\n",
    "            'location': loca,\n",
    "            'language': 'zh-Hans', # 可缺省为中文简体\n",
    "            'unit':'c'# 可缺省为c摄氏度。参数不能加空格。\n",
    "            }\n",
    "    return para\n",
    "\n",
    "def hist_inq(result_hist, hist_log=[]):\n",
    "    hist_once={} #内部变量在循环中，每次都会归零，岂不是不可以累加历史？可以考虑用文件实现？\n",
    "    #print(result_hist, type(result_hist))\n",
    "    for x, v in result_hist.items():\n",
    "        #print(f\"x is {x}, type is {type(x)},v is {v}, type is {type(v)}\")\n",
    "        hist_once[x]=v\n",
    "    hist_log.append(hist_once)\n",
    "    #print(hist_log[:])\n",
    "    return hist_log[:]\n",
    "\n",
    "def help_wea():\n",
    "    print (\"\"\"\n",
    "    输入城市名，返回该城市的天气数据；\n",
    "    输入指令（h 或 help），打印帮助文档；\n",
    "    输入指令（ quit 或 exit），退出程序的交互；\n",
    "    在退出程序之前，程序打印查询过的所有城市。\n",
    "    \"\"\")\n",
    "\n",
    "Flag = True\n",
    "log=[]\n",
    "\n",
    "while Flag:\n",
    "    next=input(\"请输入城市名或指令：\\n\")\n",
    "    if next in ['h','help']:\n",
    "        help_wea()\n",
    "    elif next not in ['q','quit','exit']:\n",
    "        input_next=xz_para(next)\n",
    "        r =requests.get('https://api.seniverse.com/v3/weather/now.json', input_next)\n",
    "        r1=json_parse(r)\n",
    "        log=hist_inq(r1)\n",
    "    else:\n",
    "        Flag = False\n",
    "        print(\"查询历史：\", log)\n"
   ]
  },
  {
   "cell_type": "markdown",
   "metadata": {},
   "source": [
    "残留问题：[`50min`]\n",
    "1. 打印查询历史时，打印了两次，\n",
    "2. 如果所查询的城市不在心知天气中，则程序报错。\n",
    "- 通过打印，发现如果没有权限获得的城市，心知天气API返回："
   ]
  },
  {
   "cell_type": "raw",
   "metadata": {},
   "source": [
    "response is <Response [403]>,type is <class 'requests.models.Response'>\n",
    "{'status': \"You don't have access to data of this city.\", 'status_code': 'AP010006'}"
   ]
  },
  {
   "cell_type": "markdown",
   "metadata": {},
   "source": [
    "因此，在json解析函数中增加其他结果处理。\n",
    "用 if 'resulst' not in <response>判断。\n"
   ]
  },
  {
   "cell_type": "code",
   "execution_count": 1,
   "metadata": {
    "collapsed": true
   },
   "outputs": [
    {
     "name": "stdout",
     "output_type": "stream",
     "text": [
      "请输入城市名或指令：\n",
      "北京\n",
      "您查询的城市：北京,当前天气为:晴，31摄氏度,查询时间：2017-08-24T11:10:00\n",
      "请输入城市名或指令：\n",
      "长沙\n",
      "您查询的城市：长沙,当前天气为:多云，33摄氏度,查询时间：2017-08-24T11:10:00\n",
      "请输入城市名或指令：\n",
      "ts\n",
      "对不起，当前系统暂不支持您所查询的城市。\n",
      "请输入城市名或指令：\n",
      "q\n",
      "查询历史： [{'城市': '北京', '当前天气': '晴', '温度': '31', '更新时间': '2017-08-24T11:10:00'}, {'城市': '北京', '当前天气': '晴', '温度': '31', '更新时间': '2017-08-24T11:10:00'}, {'城市': '长沙', '当前天气': '多云', '温度': '33', '更新时间': '2017-08-24T11:10:00'}, {'城市': '长沙', '当前天气': '多云', '温度': '33', '更新时间': '2017-08-24T11:10:00'}]\n"
     ]
    }
   ],
   "source": [
    "import requests\n",
    "import json\n",
    "\n",
    "def json_parse(json_xinzhi):\n",
    "    \"\"\"\n",
    "    专用于心知天气的API json类型的response解析\n",
    "    \"\"\"\n",
    "    r1=json_xinzhi.json() #或者r1=json.loads(r.text),得到的是dict{}类型，\n",
    "    if 'results' in r1:\n",
    "        city_result=r1['results'][0]['location']['name']\n",
    "        wea_now=r1['results'][0]['now']['text']\n",
    "        temp_now=r1['results'][0]['now']['temperature']\n",
    "        last_upd=r1['results'][0]['last_update'][:-6]\n",
    "        result={'城市':city_result, '当前天气': wea_now, '温度':temp_now,'更新时间':last_upd}\n",
    "        hist_inq(result) ##--->导致重复写入。\n",
    "        print(f\"您查询的城市：{city_result},当前天气为:{wea_now}，{temp_now}摄氏度,查询时间：{last_upd}\")\n",
    "        #print(result.items(),type(result))\n",
    "        return result\n",
    "    else:\n",
    "        print(\"对不起，当前系统暂不支持您所查询的城市。\")\n",
    "        result = None\n",
    "        return result\n",
    "\n",
    "\n",
    "def xz_para(loca):\n",
    "    para={\n",
    "            'key': 'r7rnc5ggi9g3xpxv',\n",
    "            'location': loca,\n",
    "            'language': 'zh-Hans', # 可缺省为中文简体\n",
    "            'unit':'c'# 可缺省为c摄氏度。参数不能加空格。\n",
    "            }\n",
    "    return para\n",
    "\n",
    "def hist_inq(result_hist, hist_log=[]):\n",
    "    hist_once={} #内部变量在循环中，每次都会归零，岂不是不可以累加历史？可以考虑用文件实现？\n",
    "    #print(result_hist, type(result_hist))\n",
    "    for x, v in result_hist.items():\n",
    "        #print(f\"x is {x}, type is {type(x)},v is {v}, type is {type(v)}\")\n",
    "        hist_once[x]=v\n",
    "    hist_log.append(hist_once)\n",
    "    #print(hist_log[:])\n",
    "    return hist_log[:]\n",
    "\n",
    "def help_wea():\n",
    "    print (\"\"\"\n",
    "    输入城市名，返回该城市的天气数据；\n",
    "    输入指令（h 或 help），打印帮助文档；\n",
    "    输入指令（ quit 或 exit），退出程序的交互；\n",
    "    在退出程序之前，程序打印查询过的所有城市。\n",
    "    \"\"\")\n",
    "\n",
    "Flag = True\n",
    "log=[]\n",
    "\n",
    "while Flag:\n",
    "    next=input(\"请输入城市名或指令：\\n\")\n",
    "    if next in ['h','help']:\n",
    "        help_wea()\n",
    "    elif next not in ['q','quit','exit']:\n",
    "        input_next=xz_para(next)\n",
    "        r =requests.get('https://api.seniverse.com/v3/weather/now.json', input_next)\n",
    "        #print(f\"response is {r},type is {type(r)}\")#\n",
    "        r_j=json_parse(r)\n",
    "        if r_j:\n",
    "            log=hist_inq(r_j)\n",
    "        else:\n",
    "            continue\n",
    "    else:\n",
    "        Flag = False\n",
    "        print(\"查询历史：\", log)\n"
   ]
  },
  {
   "cell_type": "markdown",
   "metadata": {},
   "source": [
    "通过[调试 - 廖雪峰的官方网站](https://www.liaoxuefeng.com/wiki/001374738125095c955c1e6d8bb493182103fac9270762a000/00138683229901532c40b749184441dbd428d2e0f8aa50e000)尝试pdb方法进行调试，将整个函数的运行逻辑梳理了一遍，发现两次调用历史记录函数，大致重复写入。\n",
    "\n",
    "进一步优化历史记录打印函数：（`0.8h`）\n",
    "\n",
    "打印字典不换行的方法：\n",
    ">\n",
    "print(*objects, sep=' ', end='\\n', file=sys.stdout, flush=False)\n",
    "这是 print() 的原型。默认是以 \\n 结尾，即换行。把 \\n 换掉就行。\n",
    "\n",
    "## 探索\n",
    "\n",
    "### json的结果多级嵌套代码，有没有更优雅的提取所需字段的方法：\n",
    "- 阅读高手们(Vwan, thxiami, Hugo)的代码[`0.5h`]\n",
    "   - Vwan的comment：[ch2 任务难点「指定时间查询天气」的思考 · Issue #66 · AIHackers/Py101-004](https://github.com/AIHackers/Py101-004/issues/66#issuecomment-324340413)\n",
    "   - thxiami的笔记：0823晚上[Py101-004/Log_2w.md at master · thxiami/Py101-004](https://github.com/thxiami/Py101-004/blob/master/Chap2/note/Log_2w.md)\n",
    " - 如何将json结果打印地更漂亮？[10 min]\n",
    " google 搜索：json pretty print：\n",
    "返回结果：\n",
    "[7.12. pprint — Data pretty printer — Python v3.2.6 documentation](https://docs.python.org/3.2/library/pprint.html)"
   ]
  },
  {
   "cell_type": "raw",
   "metadata": {},
   "source": [
    "{'results': [{'last_update': '2017-08-24T16:35:00+08:00',\n",
    "              'location': {'country': 'CN',\n",
    "                           'id': 'WQPUYY7S4GV2',\n",
    "                           'name': '洛阳',\n",
    "                           'path': '洛阳,洛阳,河南,中国',\n",
    "                           'timezone': 'Asia/Shanghai',\n",
    "                           'timezone_offset': '+08:00'},\n",
    "              'now': {'code': '0', 'temperature': '36', 'text': '晴'}}]}"
   ]
  },
  {
   "cell_type": "markdown",
   "metadata": {},
   "source": [
    "- 尝试另一种提取json字段的方法：\n",
    "  看了*可变参数*的一些用法。\n",
    "  - 但是Vwan关于具体取数据的方式，有点复杂，有多重数组的嵌套提取，未能看懂[`0.5h`]。"
   ]
  },
  {
   "cell_type": "markdown",
   "metadata": {},
   "source": [
    "### 尝试引入温度转换功能[`70min`]\n",
    " 初步设想，因为调用心知API默认以摄氏温标进行返回，故自己编制一个程序在华氏温度与摄氏温度之间之间转化。\n",
    " - **难题**：在input()判断时，f作为一个输入参数，不知道放在逻辑支的哪一条，必须要放在调用API之后，因为这样才可能读取出温度结果；\n",
    "   - 解决方法：引入一个全局变量temp_d,可以传入json解析参数，如果为f，则调用温度转换函数，换算温度，否则，默认为摄氏度。\n",
    "   - 新技能：format()的使用：\n",
    "   temp_now = \"{} {}\".format(temp_now, '摄氏度')\n",
    "\n",
    "### 尝试在atom里面装入两个插件[`20 min`]：\n",
    " - apm install platformio-ide-terminal\n",
    " 该插件，**可实现在atom界面中，运行代码的方便**可参考：[Py101-004/Atom_Terminal.md at master · justin007755/Py101-004](https://github.com/justin007755/Py101-004/blob/master/Chap1/note/Atom_Terminal.md)\n",
    "   - 结果：是powershell，感觉不如cmder，不知道是否兼容git bash？\n",
    "               - 界面汉字间距过大，不知道如何配置其显示格式。\n",
    " -  apm install multi-cursor\n",
    "    - 插件使用，可以实现多个光标位置的选定。（ALT+up/down）\n",
    "    - [joseramonc/multi-cursor](https://github.com/joseramonc/multi-cursor)\n",
    "    - 结果：成功"
   ]
  },
  {
   "cell_type": "markdown",
   "metadata": {},
   "source": [
    "   \n",
    " ## 阅读thxiami的个人教程[`0.5 h`]\n",
    " [Py101-004/Log_2w.md at master · thxiami/Py101-004](https://github.com/thxiami/Py101-004/blob/master/Chap2/note/Log_2w.md)\n",
    " 可借鉴之处：\n",
    " - 记录超级详细，每个任务的时间的都精确记录；\n",
    " - 值得注意的编程思维--**伪代码**：\n",
    " > 以伪代码形式，整体框架列出，需要做反应的地方就以 print('这是xxx')代替\n",
    "   逐步将伪代码替换为真实代码\n",
    "    判断输入\n",
    "    学习心知API python demo，下载至本地自己不断测试学习\n",
    "   天气查询函数\n",
    "   整体测试\n",
    " - 偷师到更改Git bash命令的方法：\n",
    " > 修改的命令：git config --global alias.st status, 效果: git status -> git st\n",
    "  其他：\n",
    "   git commit -m \"\" -> git ci -m \"\"\n",
    "   git reset HEAD filename -> git unstage filename 从工作区撤销 add\n",
    " - 忠实记录,即使是一个重要文档没有看完，也做相应记录：\n",
    " > Most efficient way of making an if-elif-elif-else statement when the else is done the most? - Stack Overflow 未看完，这个应该与之前提的issue：ch1 任务难点「如何更好实现用户指令查询功能」的思考 指令函数变量放在字典内调用 或 if/elif/../else有关，讲的是效率方面"
   ]
  }
 ],
 "metadata": {
  "kernelspec": {
   "display_name": "Python 3",
   "language": "python",
   "name": "python3"
  },
  "language_info": {
   "codemirror_mode": {
    "name": "ipython",
    "version": 3
   },
   "file_extension": ".py",
   "mimetype": "text/x-python",
   "name": "python",
   "nbconvert_exporter": "python",
   "pygments_lexer": "ipython3",
   "version": "3.6.2"
  }
 },
 "nbformat": 4,
 "nbformat_minor": 2
}

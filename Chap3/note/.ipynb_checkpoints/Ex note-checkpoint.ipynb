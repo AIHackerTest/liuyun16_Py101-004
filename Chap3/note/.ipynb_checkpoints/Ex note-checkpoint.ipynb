{
 "cells": [
  {
   "cell_type": "markdown",
   "metadata": {},
   "source": [
    "## 每天摘要：\n",
    "\n",
    "### 0826， 3wd6\n",
    "- 阅读官方卡片，了解到4w任务。[`30 min`]\n",
    "\n",
    "\n",
    "- 大致浏览，有几个问题：\n",
    "  - 开发网页用了Flask；但是据我所知还有一个Djago之类的，有什么区别？\n",
    "  - 内网可用是本地电脑可用的意思？\n",
    "  - 背景知识有点多，是不是应该尝试改变一下自己的学习习惯，响应大妈的教导：不管背景知识，**用之弗学。**\n",
    "  \n",
    "  10：10-10: 40\n",
    "  - 尝试flask模块，但是出现了问题：\n",
    "  Error: Could not locate Flask application. You did not provide the FLASK_APP environment variable.\n",
    "  google之，未得到有效解答。\n",
    "  \n",
    "  查阅[官方文档](http://flask.pocoo.org/docs/0.12/quickstart/#quickstart)：\n",
    "  >Invalid Import Name\n",
    "The FLASK_APP environment variable is the name of the module to import at flask run. In case that module is incorrectly named you will get an import error upon start (or if debug is enabled when you navigate to the application). It will tell you what it tried to import and why it failed.\n",
    "The most common reason is a typo or because you did not actually create an app object.\n",
    "  \n",
    "  思路：可能是输入的空格导致。\n",
    "  尝试在`FLASK_APP`前后去掉空格，成功。\n",
    "  思路正确。  "
   ]
  },
  {
   "cell_type": "code",
   "execution_count": null,
   "metadata": {
    "collapsed": true
   },
   "outputs": [],
   "source": [
    "set Flask_APP=hello1.py# 正确\n",
    "set Flask_APP =hello1.py #错误\n",
    "\n",
    "from flask import Flask\n",
    "app = Flask(__name__)  #定义对象实例\n",
    "\n",
    "@app.route(\"/\")     # route是个装饰器，什么是装饰器？\n",
    "def hello():\n",
    "    return \"Hello World!\"\n"
   ]
  },
  {
   "cell_type": "markdown",
   "metadata": {},
   "source": [
    "尝试了一下，然后就不知道怎么做了。看来还是需要**基本的教程**或者**知识储备**。\n",
    "\n",
    "#### 学习廖雪峰教程[`45 min`]：\n",
    "  - 阅读了：\n",
    "    - Web开发\n",
    "    - HTTP协议简介\n",
    "    - HTML简介\n",
    "    - WSGI接口\n",
    "    - [使用Web框架](https://www.liaoxuefeng.com/wiki/0014316089557264a6b348958f449949df42a6d3a2e542c000/001432012393132788f71e0edad4676a3f76ac7776f3a16000)\n",
    "     成果：\n",
    "     - 尝试了最简单的html网页的编写，以及敲了一遍wsgi的python接口 。\n",
    "     -  依然**不太理解**wsgi模块实现的功能，封装了哪些操作？\n",
    " \n",
    "  - 继续学习廖雪峰教程[耗时'40min']：\n",
    "   - [使用Web框架以及模板， - 廖雪峰的官方网站](https://www.liaoxuefeng.com/wiki/0014316089557264a6b348958f449949df42a6d3a2e542c000/001432012745805707cb9f00a484d968c72dbb7cfc90b91000)"
   ]
  },
  {
   "cell_type": "code",
   "execution_count": null,
   "metadata": {},
   "outputs": [
    {
     "name": "stderr",
     "output_type": "stream",
     "text": [
      " * Running on http://127.0.0.1:5000/ (Press CTRL+C to quit)\n",
      "127.0.0.1 - - [26/Aug/2017 23:23:31] \"GET / HTTP/1.1\" 200 -\n",
      "127.0.0.1 - - [26/Aug/2017 23:23:38] \"GET /signin HTTP/1.1\" 200 -\n",
      "127.0.0.1 - - [26/Aug/2017 23:23:54] \"POST /signin HTTP/1.1\" 200 -\n",
      "127.0.0.1 - - [26/Aug/2017 23:23:57] \"GET /signin HTTP/1.1\" 200 -\n",
      "127.0.0.1 - - [26/Aug/2017 23:24:05] \"POST /signin HTTP/1.1\" 200 -\n",
      "127.0.0.1 - - [26/Aug/2017 23:24:07] \"GET /signin HTTP/1.1\" 200 -\n"
     ]
    }
   ],
   "source": [
    "from flask import Flask\n",
    "from flask import request\n",
    "\n",
    "app = Flask(__name__)\n",
    "\n",
    "\n",
    "@app.route(\"/\", methods=['GET','POST'])\n",
    "def home():\n",
    "    return '<h1>Home</h1>'\n",
    "\n",
    "@app.route('/signin', methods = ['GET'])\n",
    "def signin_form():\n",
    "    return \"\"\"<form action=\"/signin\" method=\"post\">\n",
    "                <p><input name=\"username\"></p>\n",
    "                <p><input name=\"password\" type=\"password\"></p>\n",
    "                <p><button type=\"submit\">Sign In</button></p>\n",
    "                </form>\"\"\"\n",
    "\n",
    "@app.route(\"/signin\", methods=['POST'])\n",
    "def signin():\n",
    "    #需要从request对象读取表单内容：\n",
    "    if request.form['username'] == 'admin' and request.form['password'] == 'password':\n",
    "        return '<h3>Hello, admin!</h3>'\n",
    "    else:\n",
    "        return '<h3>Bad username or password.</h3>'\n",
    "\n",
    "if __name__ == '__main__':\n",
    "    app.run()\n"
   ]
  },
  {
   "cell_type": "markdown",
   "metadata": {},
   "source": [
    "    大概明白了利用python 进行web开发的逻辑。\n",
    "    1. 底层还是https，这才是www网上的通信协议；\n",
    "    2. python能实现的是具体动作以及命令，但是要将相应的指令全部转化成https的格式，这个就可以用WEB开发框架。\n",
    "    3. web开发框架不仅包括了URL的生成，还包括了用户交互指令到http命令的转换，以及结果返回的解析。\n",
    "    3. 最后的结果显示在web网页上，需要html语言。\n",
    "    \n",
    "  #### 小差：\n",
    "  1. 安装atom的[多project管理插件](https://atom.io/packages/project-manager)：快捷键为Ctrl+Shift+P.\n",
    "  \n",
    "  "
   ]
  },
  {
   "cell_type": "markdown",
   "metadata": {
    "collapsed": true
   },
   "source": [
    "### 0827，4wd0\n",
    "#### 关于学习记录的思考\n",
    "1. 自己在学习中存在的毛病：\n",
    "  - 因为**目标、任务意识不强**，大部分时间都是无目的地阅读，浏览，再加上自己想法太多，互联网上诱惑太多，因此我大部分时间的浏览都没有留下什么东西--->改正：**每段时间都做记录时间花费**，且**写明任务，预期目标，预期时间**，\n",
    "  - 输出太少，印象模糊。--->改正：先从**忠实记录开始**，逐步优化自己的折腾记录；\n",
    "  \n",
    " #### 重要任务1：尝试理解昨日廖雪峰教程中的语法，改编成自己的云天气版本。\n",
    " 1. 先理解廖雪峰代码，\n",
    " "
   ]
  },
  {
   "cell_type": "code",
   "execution_count": null,
   "metadata": {
    "collapsed": true
   },
   "outputs": [],
   "source": [
    "from flask import Flask, request, render_template # 导入了Flask类，\n",
    "\n",
    "app = Flask(__name__)  # app为Flask的一个实例，\n",
    "\n",
    "@app.route('/', methods=['GET', 'POST']) #route是一个装饰器，后面接URL，后期可以深究这个什么叫装饰器？里面有什么函数进行了封装？\n",
    "#正确运用库的姿势是怎么样的？\n"
   ]
  },
  {
   "cell_type": "markdown",
   "metadata": {},
   "source": [
    "#### Debug Mode的打开[`20 min`]\n",
    "1. 在命令行中，运行之前，先设定变量，就可以进入调试模式："
   ]
  },
  {
   "cell_type": "raw",
   "metadata": {},
   "source": [
    "set FLASK_APP=hello1.py\n",
    "set FlASK_Debug=1\n",
    "flask run"
   ]
  },
  {
   "cell_type": "markdown",
   "metadata": {},
   "source": [
    "注意点：\n",
    "   - 程序有错才会有交互式debug页面；否则就是正常的页面；\n",
    "   - 在.py脚本中，进入debug模式的方法，？？\n",
    "   \n",
    "#### 在命令行中运行Flask run与在. py中运行flask.run有何差别？[`20min`]\n",
    "   \n",
    "#### 学习html的的基本语法，希望能有基本的按钮[`20min`]\n",
    "  - 好的学习网站：[w3schools Editor v3.5](https://www.w3schools.com/tags/tryit.asp?filename=tryhtml_button_type)\n",
    "     所见即所得。     "
   ]
  },
  {
   "cell_type": "markdown",
   "metadata": {},
   "source": [
    "  - HTML的基本元素：\n",
    "    - [HTML `<input> `标签](http://www.w3school.com.cn/tags/tag_input.asp)\n",
    "    - [HTML `<button> `标签](http://www.w3school.com.cn/tags/tag_button.asp)\n",
    "    - `<form> `标签用于为用户输入创建 HTML 表单。[HTML `<form>` 标签](http://www.w3school.com.cn/tags/tag_form.asp)\n",
    "    "
   ]
  },
  {
   "cell_type": "markdown",
   "metadata": {},
   "source": [
    "   这些元素似乎都是“对象”，而对象有属性：\n",
    "   > attribute--类所具有属性，从组成中来，一般是变量；\n",
    "   因此，需要知道他们说有的属性，并在定义的时候进行合适的赋值。\n",
    "   如`<button>对象`：type=\"submit\"\n",
    "   \n",
    "  - **收获**：HTML语法 过于复杂，基本了解了这几个**重要元素**，及其基本性质（是一个对象，需要定义属性值，不同属性值可能决定了不同的功能。）\n",
    "  \n",
    "  \n",
    "#### 继续理解廖雪峰的语法，但是读不太懂，因此还是决定转而向Flask官方文档求助[`1h`]：\n",
    " -[Quickstart — Flask Documentation (0.12)](http://flask.pocoo.org/docs/0.12/quickstart/#http-methods)\n",
    " \n",
    " \n",
    "### 心得：\n",
    "突然get到“用之，弗学”，看官方文档的正确姿势，即看代码自己运行一遍似乎理解了不少。\n",
    "比如看Flask官方文档，对着运行一遍，大概就了解了，url的构建，以及route方法的调用。关键是运行之后，结果及时反馈，也知道文字在讲什么了。\n",
    "- 这样可能比乱七八糟再去找其它资料，教程，更节省时间，可谓真“Quickstart”。"
   ]
  },
  {
   "cell_type": "markdown",
   "metadata": {},
   "source": [
    "## 尝试构建自己的代码：\n",
    "1. 完成登录页面，可以输入城市名，点查询按钮，submit，已完成【忘记计时】；\n",
    "2. 完成输入，提交之后，API查询是靠Python程序还是flask？\n",
    "    - 感觉看完之后，对于flask库能够实现什么功能还不够清楚，教程没看懂？还是没有理解web服务的原理？\n",
    "3. 任务目标：完成http的API请求：\n",
    "- 思路1：希望输入城市名之后，可以构建出合适心知API的GET方法的合法URL名称；\n",
    "   - 难点1：如何将html网页输入的传入到py代码中？\n",
    "   参考[Bruce-Qiao](https://github.com/Bruce-Qiao/Py101-004/blob/master/Chap3/project/api_weather_2.py)和[AriaDou](https://github.com/AriaDou/Py101-004/blob/master/Chap3/project/test/weatherInquiry.py)的代码，感觉比较易懂。\n",
    "   分析AriaDou的代码：\n",
    "   "
   ]
  },
  {
   "cell_type": "code",
   "execution_count": null,
   "metadata": {
    "collapsed": true
   },
   "outputs": [],
   "source": [
    " <h1 style=\"text-align:center\">天气查询系统</h1>\n",
    "  <form action=\"\" method=\"post\">\n",
    "    <p style=\"text-align:center\">\n",
    "      城市：<input type=\"text\" name=\"city\">\n",
    "      <input name=\"action\" type=\"submit\" value=\"查询\">\n",
    "      <input name=\"action\" type=\"submit\" value=\"历史\">\n",
    "      <input name=\"action\" type=\"submit\" value=\"帮助\">\n",
    "    </p>\n",
    "  </form>"
   ]
  },
  {
   "cell_type": "markdown",
   "metadata": {},
   "source": [
    "其将表单数据，传入.py代码中的传值方式为：\n",
    "``` if request.method == 'POST':\n",
    "        if request.form['action'] == u'查询':\n",
    "```\n",
    "而官方文档Flask文档中，为：\n",
    "`searchword = request.args.get('key', '')`\n",
    "以及：\n",
    "`request.form['username']`\n",
    "\n",
    "这说明，key-value之间是以**字典**的形式关联的。\n",
    "问题来了，在form表单中，key是input元素的`name`还是`value`？即从flask从form表单中获取输入变量，是查询`request.form('name')`还是`request.form(`value`)`?\n",
    "\n",
    ".py程序运行之后，一些错误的变量并没有按需打印出来，因此如何进行调试也是个大问题。"
   ]
  },
  {
   "cell_type": "code",
   "execution_count": null,
   "metadata": {
    "collapsed": true
   },
   "outputs": [],
   "source": [
    "from flask import render_template,Flask, request, url_for\n",
    "import requests\n",
    "import json\n",
    "\n",
    "app = Flask(__name__)\n",
    "\n",
    "@app.route(\"/\", methods = ['GET','POST'])#为什么调用模板也需要用一下这个app.装饰器？还要用到方法？ ##route2\n",
    "def home_form():\n",
    "    next = request.form(\"city\")\n",
    "    print(next, type(next))\n",
    "    return render_template('home_form.html')\n",
    "\n",
    "# @app.route(\"/\", methods = ['GET']) # 需要定义方法吗？\n",
    "# def inq_result():\n",
    "#     city_next = request.form('city')\n",
    "#     print (city_next)\n",
    "#     return city_next\n",
    "\n",
    "def xz_para(loca):\n",
    "    para={\n",
    "            'key': 'r7rnc5ggi9g3xpxv',\n",
    "            'location': request.form('city'), #尝试从form表单中获取用户输入城市名；??\n",
    "            'language': 'zh-Hans',\n",
    "            'unit':'c'\n",
    "            }\n",
    "    return para\n",
    "\n",
    "def json_parse(json_xinzhi, unit):\n",
    "    \"\"\"\n",
    "    专用于心知天气的API json类型的response解析\n",
    "    \"\"\"\n",
    "    r1=json_xinzhi.json() #或者r1=json.loads(r.text),得到的是dict{}类型，\n",
    "    if 'results' in r1:\n",
    "        city_result=r1['results'][0]['location']['name']\n",
    "        wea_now=r1['results'][0]['now']['text']\n",
    "        temp_now=r1['results'][0]['now']['temperature']\n",
    "        last_upd=r1['results'][0]['last_update'][:-6].replace(\"T\",\" \")\n",
    "        if unit == 'f':\n",
    "            temp_now_f = temp_conv(temp_now)\n",
    "            temp_now= \"{} {}\".format(temp_now_f, '华氏度')\n",
    "            print(f\"您查询的城市：{city_result},当前天气为:{wea_now}，{temp_now},数据更新时间：{last_upd}\")\n",
    "        else:\n",
    "            temp_now = \"{} {}\".format(temp_now, '摄氏度')\n",
    "            print(f\"您查询的城市：{city_result},当前天气为:{wea_now}，{temp_now},数据更新时间：{last_upd}\")\n",
    "        result={'城市':city_result, '当前天气': wea_now, '温度':temp_now,'更新时间':last_upd}\n",
    "        return result\n",
    "    else:\n",
    "        print(\"对不起，当前系统暂不支持您所查询的城市。\")\n",
    "        result = None\n",
    "        return result\n",
    "\n",
    "@app.route('/', methods = ['GET','POST'])#route2\n",
    "def main():\n",
    "    next = request.form(\"city\")\n",
    "    print(next, type(next))\n",
    "\n",
    "if __name__ == '__main__':\n",
    "    app.run(debug = 1)\n",
    "    # next_in = inq_result()\n",
    "    # print (next_in)\n"
   ]
  },
  {
   "cell_type": "markdown",
   "metadata": {},
   "source": [
    "自己运行了好几遍却发现，print语句一直没有运行，观察到大猫教练的视频教程：[python flask mvp_演讲•公开课_科技_bilibili_哔哩哔哩](https://www.bilibili.com/video/av14126852/)，想到：\n",
    "route()装饰器，在一个.py中应该只有一个（多个的时候应有条件。）\n",
    "故将上述.py文件进行修改，将上述route2删掉，并将route1改写成。\n"
   ]
  },
  {
   "cell_type": "code",
   "execution_count": null,
   "metadata": {
    "collapsed": true
   },
   "outputs": [],
   "source": [
    "@app.route(\"/\", methods = ['GET','POST'])#为什么调用模板也需要用一下这个app.装饰器？还要用到方法？\n",
    "def home_form():\n",
    "    print(request.form)\n",
    "    next = request.form[\"city\"] #先是list，再是字典。注意调用方式。\n",
    "    print(next, type(next))\n",
    "    return render_template('home_form.html')"
   ]
  },
  {
   "cell_type": "markdown",
   "metadata": {},
   "source": [
    "结果，成功返回到next的值为自己输入的城市名。\n",
    "\n",
    "子任务：仿照大猫教练的方式，获取输入的按钮类型信息（查询，帮助，历史）。\n"
   ]
  },
  {
   "cell_type": "markdown",
   "metadata": {},
   "source": [
    "   ## 20170905, 5wd2\n",
    "   昨日可以正常运行的flask服务框架，今天用浏览器访问却变成了400 bad request，\n",
    "   [python - What is the cause of the Bad Request Error when submitting form in Flask application? - Stack Overflow](https://stackoverflow.com/questions/14105452/what-is-the-cause-of-the-bad-request-error-when-submitting-form-in-flask-applica)，好像是："
   ]
  },
  {
   "cell_type": "code",
   "execution_count": null,
   "metadata": {
    "collapsed": true
   },
   "outputs": [],
   "source": [
    "next = request.form[\"city\"] #先是list，再是字典。注意调用方式。未取到值。导致返回400错误。\n",
    "    # print(next, type(next))"
   ]
  },
  {
   "cell_type": "markdown",
   "metadata": {},
   "source": [
    "因此，换成get方法之后，错误消失 。\n",
    "`request.form.get(\"btn\")`\n",
    "**可复用结论**：get方法比直接用括号取值，方法更佳。\n",
    "\n",
    "探索尝试：成功地将上次的py文件到本次的代码中，成功运行。【耗时1h】\n",
    "目前可以实现网页版输入，输出结果再cmder终端中。\n",
    "\n",
    "### 计划：将查询结果返回到html中，进行显示。\n",
    "1. 将帮助信息显示到form_html中，参考AriaDou的代码，已经实现【耗时0.6h】。\n",
    "- 结合flask的render_template方法，可以在py中传递变量，如help_get变量；\n",
    "`return render_template('home_form.html', help_get = help_get)`\n",
    "- 利用jinja模板中的语法，if endif，显示出帮助信息。\n",
    "```\n",
    "{% if help_get %}\n",
    "  <p style=\"text-align:center\">\n",
    "    <br>输入城市名，查询该城市的天气；</br>\n",
    "    <br>点击帮助，获取帮助文档；</br>\n",
    "    <br>点击历史，获取查询历史。</br>\n",
    "  </p>\n",
    "{% endif %}\n",
    "```\n",
    "2. 将查询结果显示到form_html中，\n",
    "3. 将历史查询信息显示到form_html中，失败。因为点击<历史>按钮之后，\n",
    "会将程序中原来的log list数据重新清空，导致log赋值为初始值。【耗时2h，卡在此】\n"
   ]
  },
  {
   "cell_type": "code",
   "execution_count": null,
   "metadata": {
    "collapsed": true
   },
   "outputs": [],
   "source": [
    "[{'城市': '北京', '当前天气': '阴', '温度': '26 摄氏度', '更新时间': '2017-09-05 20:00:00'\n",
    "}, {'城市': '上海', '当前天气': '多云', '温度': '31 摄氏度', '更新时间': '2017-09-05 19:53\n",
    ":00'}]\n",
    "127.0.0.1 - - [05/Sep/2017 22:01:36] \"POST / HTTP/1.1\" 200 -\n",
    "ImmutableMultiDict([('city', ''), ('btn', '历史')])\n",
    "[]\n",
    "    "
   ]
  },
  {
   "cell_type": "markdown",
   "metadata": {},
   "source": [
    "### 20170906, 5wd3\n",
    "#### 任务1：[关于路由重定向，变量回归初始值的问题【点击历史按钮，相应变量初始化为零】 · Issue #108 · AIHackers/Py101-004](https://github.com/AIHackers/Py101-004/issues/108)【耗时30min】\n",
    "- 出坑记：\n",
    "  1. 正如大妈所说，需要有一个route之外的全局的变量。这样每次定向时，都不会被初始化为零值。因此，问题就精确地确定为变量全局与局域变量的问题。\n",
    "  2. 翻看@AriaDou的代码，发现，他们果然在命名flask app实例的时候，都同时定义了一个全局的list为空，等待接收历史查询信息。\n",
    "  3. 我自己尝试，依然报错。错误信息为：\n",
    "  ```\n",
    "  File \"C:\\git\\Py101-004\\Chap3\\project\\xinzhi_web.py\", line 29, in home_form\n",
    "    return render_template('home_form.html', help_get = help_get, weather_result = weather_result, log = log, log_flag = log_flag)\n",
    "UnboundLocalError: local variable 'log' referenced before assignment\n",
    "  ```\n",
    "  相关代码："
   ]
  },
  {
   "cell_type": "code",
   "execution_count": null,
   "metadata": {
    "collapsed": true
   },
   "outputs": [],
   "source": [
    "log = None\n",
    "\n",
    "@app.route(\"/\", methods = ['GET','POST'])\n",
    "def home_form():\n",
    "    help_get = 0\n",
    "    \n",
    "    log_flag = 0\n",
    "    weather_result = None\n",
    "\n",
    "    print(request.form)\n",
    "    if request.form.get(\"btn\") == \"历史\":\n",
    "        log_flag = 1\n",
    "    elif request.form.get(\"btn\") == \"帮助\":\n",
    "        help_get = 1\n",
    "    else:\n",
    "        city_in = request.form.get(\"city\")\n",
    "        input_next=xz_para()\n",
    "        r =requests.get('https://api.seniverse.com/v3/weather/now.json', input_next)\n",
    "        weather_result=json_parse(r, \"c\")\n",
    "        print(weather_result)\n",
    "        if weather_result:\n",
    "            log=hist_inq(weather_result)  ##这一个语句使得函数出了问题。\n",
    "\n",
    "    return render_template('home_form.html', help_get = help_get, weather_result = weather_result, log = log, log_flag = log_flag)\n",
    "\n",
    "def hist_inq(result_hist, hist_log=[]):\n",
    "    hist_once={}\n",
    "    for x, v in result_hist.items():\n",
    "        hist_once[x]=v\n",
    "    hist_log.append(hist_once)\n",
    "    return hist_log\n",
    "\n"
   ]
  },
  {
   "cell_type": "markdown",
   "metadata": {},
   "source": [
    "- 原因：log虽然在route之外声明了初始值，但是在22行中，`log=hist_inq(weather_result) `这个赋值操作使得系统认为log依然是个home_form（）函数的局域变量，因此，报出上述错误。\n",
    "\n",
    "- 解法：将`log=hist_inq(weather_result) `去掉赋值操作，及改为：`log.append(weather_result)`，问题解决。\n",
    "\n",
    "#### 子任务2：利用css试图稍微美化一下页面【耗时1h】。\n",
    "主要参考w3school的代码进行相应的优化。\n",
    "\n",
    "#### 提交ch3任务：\n",
    "\n",
    "@AIHackers/py101stu-004 流云 完成 ch3 任务啦\n",
    "    \t\n",
    "- 任务成果地址：[云天气](https://github.com/liuyun16/Py101-004/blob/master/Chap3/project/xinzhi_web.py)\t\n",
    "- 任务成果截图：\n",
    "- 程序使用说明地址： ……\n",
    "- [折腾日志](https://github.com/liuyun16/Py101-004/blob/master/Chap3/note/Ex%20note.ipynb)\n",
    "- 感想：\n",
    "   这章内容对我而言难度指数爆表！\n",
    "  1. 本章学习关键点：\n",
    "     a. flask的route装饰器函数的功能，即按条件跳转新的url。本着mvp的精神，不需要了解高大上的装饰器是啥（其实是没有精力），只需要知道路由的功能即可。\n",
    "     b. 各种反常识的东西太多了，比如html的各种元素，如按钮，输入文本框，以及相应元素的属性值；\n",
    "     c. 各个模块都负责实现什么功能，如flask框架，jinja2,模板，html页面，还有.py脚本以及requests库，这些各自能干啥？\n",
    "     d. flask框架，jinja2,模板，html页面，还有.py脚本以及requests库，如何一起协作？更具体的html页面如何用表单获取用户输入？如何再将输入内容传给.py脚本？.py脚本得到的API请求结果，如何返回给html页面显示？\n",
    "   2. 本章收获与感想：\n",
    "     a. 在不太理解具体的底层运作原理，如装饰器，路由功能，html，css等的前提下，通过自己执行代码，参考同学作业（在此致谢@AriaDou @Bruce-Qiao），完成了mvp任务。这个挑战了自己以前的学习习惯，即什么都要弄清楚了才开始动手。可能利用任务驱动，重实践的编程学习的高效正确姿势正是如此？然而，问题在于，mvp基本任务完成了之后，自己也不想再扎扎实实地学习相关知识了。\n",
    "     b. 感受到了日常网上冲浪，鼠标狂点的惬意下的大量程序猿的工作量。明白了为什么程序猿岗位那么吃香。\n",
    "     c. 觉得html和css的交互性很好玩，直接面向日常应用。但是背后大量的逻辑，以及函数调用都是网页上看不见的.py程序的贡献，这就是前端和后端的来源吗？\n",
    "     \n",
    "- 给楼上同学的反馈：没有力气了。。。"
   ]
  }
 ],
 "metadata": {
  "kernelspec": {
   "display_name": "Python 3",
   "language": "python",
   "name": "python3"
  },
  "language_info": {
   "codemirror_mode": {
    "name": "ipython",
    "version": 3
   },
   "file_extension": ".py",
   "mimetype": "text/x-python",
   "name": "python",
   "nbconvert_exporter": "python",
   "pygments_lexer": "ipython3",
   "version": "3.6.2"
  }
 },
 "nbformat": 4,
 "nbformat_minor": 2
}

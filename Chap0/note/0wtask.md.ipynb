{
 "cells": [
  {
   "cell_type": "code",
   "execution_count": 2,
   "metadata": {},
   "outputs": [
    {
     "data": {
      "text/plain": [
       "[15,\n",
       " 18,\n",
       " 4,\n",
       " 32,\n",
       " 24,\n",
       " 31,\n",
       " 44,\n",
       " 8,\n",
       " 5,\n",
       " 16,\n",
       " 42,\n",
       " 26,\n",
       " 17,\n",
       " 12,\n",
       " 35,\n",
       " 37,\n",
       " 36,\n",
       " 29,\n",
       " 9,\n",
       " 47,\n",
       " 48,\n",
       " 41,\n",
       " 19,\n",
       " 27,\n",
       " 34,\n",
       " 45,\n",
       " 2,\n",
       " 3,\n",
       " 11,\n",
       " 43,\n",
       " 1,\n",
       " 13,\n",
       " 46,\n",
       " 39,\n",
       " 6,\n",
       " 40,\n",
       " 38,\n",
       " 25,\n",
       " 22,\n",
       " 28,\n",
       " 7,\n",
       " 23,\n",
       " 21,\n",
       " 10,\n",
       " 33,\n",
       " 20,\n",
       " 49,\n",
       " 30,\n",
       " 14]"
      ]
     },
     "execution_count": 2,
     "metadata": {},
     "output_type": "execute_result"
    }
   ],
   "source": [
    "import random\n",
    "random.sample(range(1,50),49)#生成49个1-50范围内的数组成的数列"
   ]
  },
  {
   "cell_type": "markdown",
   "metadata": {},
   "source": [
    "似乎真的没有重合的数列？该方法来自[stackover问答网站](https://stackoverflow.com/questions/22842289/generate-n-unique-random-numbers-within-a-range)\n",
    "不是特别理解其原理。"
   ]
  },
  {
   "cell_type": "code",
   "execution_count": 6,
   "metadata": {},
   "outputs": [
    {
     "data": {
      "text/plain": [
       "[3, 2, 8, 0]"
      ]
     },
     "execution_count": 6,
     "metadata": {},
     "output_type": "execute_result"
    }
   ],
   "source": [
    "import random\n",
    "random.sample(range(0,9),4)"
   ]
  },
  {
   "cell_type": "markdown",
   "metadata": {},
   "source": [
    "- 关于sample方法的用法：该方法自动包含强大的unique取样方法。\n",
    "random.sample(population, k)\n",
    "Return a k length list of **unique elements** chosen from the population sequence. Used for random sampling without replacement.\n",
    "\n",
    "New in version 2.3.\n",
    "\n",
    "Returns a new list containing elements from the population while leaving the original population unchanged. The resulting list is in selection order so that all sub-slices will also be valid random samples. This allows raffle winners (the sample) to be partitioned into grand prize and second place winners (the subslices).\n",
    "\n",
    "Members of the population need not be hashable or unique. If the population contains repeats, then each occurrence is a possible selection in the sample.\n",
    "\n",
    "To choose a sample from a range of integers, use an xrange() object as an argument. This is especially fast and space efficient for sampling from a large population: sample(xrange(10000000), 60)."
   ]
  },
  {
   "cell_type": "code",
   "execution_count": 16,
   "metadata": {},
   "outputs": [
    {
     "name": "stdout",
     "output_type": "stream",
     "text": [
      "Please input a number between 1000~9999\n",
      "3456\n"
     ]
    },
    {
     "ename": "TypeError",
     "evalue": "argument of type 'int' is not iterable",
     "output_type": "error",
     "traceback": [
      "\u001b[1;31m---------------------------------------------------------------------------\u001b[0m",
      "\u001b[1;31mTypeError\u001b[0m                                 Traceback (most recent call last)",
      "\u001b[1;32m<ipython-input-16-979df2c8353a>\u001b[0m in \u001b[0;36m<module>\u001b[1;34m()\u001b[0m\n\u001b[0;32m     25\u001b[0m     \u001b[0mg\u001b[0m\u001b[1;33m=\u001b[0m\u001b[0minput\u001b[0m\u001b[1;33m(\u001b[0m\u001b[1;34m\"Please input a number between 1000~9999\\n\"\u001b[0m\u001b[1;33m)\u001b[0m\u001b[1;33m\u001b[0m\u001b[0m\n\u001b[0;32m     26\u001b[0m     \u001b[1;32mif\u001b[0m \u001b[0mg\u001b[0m\u001b[1;33m.\u001b[0m\u001b[0misdigit\u001b[0m\u001b[1;33m(\u001b[0m\u001b[1;33m)\u001b[0m\u001b[1;33m:\u001b[0m\u001b[1;33m\u001b[0m\u001b[0m\n\u001b[1;32m---> 27\u001b[1;33m         \u001b[0mcompare_posi_value\u001b[0m\u001b[1;33m(\u001b[0m\u001b[0mtag_list\u001b[0m\u001b[1;33m,\u001b[0m\u001b[0mg\u001b[0m\u001b[1;33m)\u001b[0m\u001b[1;33m\u001b[0m\u001b[0m\n\u001b[0m\u001b[0;32m     28\u001b[0m         \u001b[0mi\u001b[0m\u001b[1;33m+=\u001b[0m\u001b[1;36m1\u001b[0m\u001b[1;33m\u001b[0m\u001b[0m\n\u001b[0;32m     29\u001b[0m     \u001b[1;32melse\u001b[0m\u001b[1;33m:\u001b[0m\u001b[1;33m\u001b[0m\u001b[0m\n",
      "\u001b[1;32m<ipython-input-16-979df2c8353a>\u001b[0m in \u001b[0;36mcompare_posi_value\u001b[1;34m(targ_list, gue_list)\u001b[0m\n\u001b[0;32m      9\u001b[0m             \u001b[0mposi_value_flag\u001b[0m\u001b[1;33m+=\u001b[0m\u001b[1;36m1\u001b[0m\u001b[1;33m\u001b[0m\u001b[0m\n\u001b[0;32m     10\u001b[0m             \u001b[0ma\u001b[0m\u001b[1;33m+=\u001b[0m\u001b[1;36m1\u001b[0m\u001b[1;33m\u001b[0m\u001b[0m\n\u001b[1;32m---> 11\u001b[1;33m         \u001b[1;32melif\u001b[0m \u001b[0mgue_list\u001b[0m\u001b[1;33m[\u001b[0m\u001b[0ma\u001b[0m\u001b[1;33m]\u001b[0m \u001b[1;32min\u001b[0m \u001b[0mtarg_list\u001b[0m\u001b[1;33m.\u001b[0m\u001b[0mpop\u001b[0m\u001b[1;33m(\u001b[0m\u001b[0ma\u001b[0m\u001b[1;33m)\u001b[0m\u001b[1;33m:\u001b[0m\u001b[1;33m\u001b[0m\u001b[0m\n\u001b[0m\u001b[0;32m     12\u001b[0m             \u001b[0ma\u001b[0m\u001b[1;33m+=\u001b[0m\u001b[1;36m1\u001b[0m\u001b[1;33m\u001b[0m\u001b[0m\n\u001b[0;32m     13\u001b[0m             \u001b[0mvalue_flag\u001b[0m\u001b[1;33m+=\u001b[0m\u001b[1;36m1\u001b[0m\u001b[1;33m\u001b[0m\u001b[0m\n",
      "\u001b[1;31mTypeError\u001b[0m: argument of type 'int' is not iterable"
     ]
    }
   ],
   "source": [
    "import random\n",
    "\n",
    "def compare_posi_value(targ_list=[],gue_list=[]):\n",
    "    a=0\n",
    "    posi_value_flag=0\n",
    "    value_flag=0\n",
    "    while a<4:\n",
    "        if gue_list[a]==targ_list[a]:\n",
    "            posi_value_flag+=1\n",
    "            a+=1\n",
    "        elif gue_list[a] in targ_list.pop(a):\n",
    "            a+=1\n",
    "            value_flag+=1\n",
    "        else:\n",
    "            a+=1\n",
    "    print (\"f{posi_value_flag}A{value_flag}B\")\n",
    "\n",
    "tag_list=random.sample(range(0,9),4)\n",
    "\n",
    "while tag_list[0]==0:\n",
    "    random.shuffle(tag_list)\n",
    "\n",
    "i=0\n",
    "while i<10:\n",
    "    g=input(\"Please input a number between 1000~9999\\n\")\n",
    "    if g.isdigit():\n",
    "        compare_posi_value(tag_list,g)\n",
    "        i+=1\n",
    "    else:\n",
    "        print(\"Please input a number!NO other type!\\n\")"
   ]
  },
  {
   "cell_type": "markdown",
   "metadata": {},
   "source": [
    "这里的问题可能出现在用`in`的语法有问题，即`gue_list[a]`不是字符串类型，而是个整数。\n",
    "验证一下：\n"
   ]
  },
  {
   "cell_type": "code",
   "execution_count": 15,
   "metadata": {},
   "outputs": [
    {
     "name": "stdout",
     "output_type": "stream",
     "text": [
      "2\n",
      "12345\n",
      "2\n"
     ]
    },
    {
     "data": {
      "text/plain": [
       "str"
      ]
     },
     "execution_count": 15,
     "metadata": {},
     "output_type": "execute_result"
    }
   ],
   "source": [
    "import types \n",
    "l=[1,2,3,4]\n",
    "print(l[1])\n",
    "l_1=input()\n",
    "print(l_1[1])\n",
    "type(l_1[3])\n",
    "\n"
   ]
  },
  {
   "cell_type": "markdown",
   "metadata": {},
   "source": [
    "以上结果可知，`input`得到的变量其实是`str`类型的，包括其内在的元素都是`str`，那上述的错误到底出在哪？\n",
    "是否是定义的函数默认传入参数的问题？默认传入的是`str`类型的吗？\n",
    "再次看` targ_list.pop(a)`中`pop`方法的使用，发现，原来`.pop`得到的是原来list的一个元素呀，即一个`int`类型的数字。而不是*该元素之后的list数据类型*\n",
    "再次更改代码，如下："
   ]
  },
  {
   "cell_type": "code",
   "execution_count": 17,
   "metadata": {},
   "outputs": [
    {
     "name": "stdout",
     "output_type": "stream",
     "text": [
      "[8, 6, 0, 7]\n",
      "Please input a number between 1000~9999\n",
      "4568\n",
      "[8, 6, 0, 7]\n",
      "the 第0次循环\n",
      "[6, 0, 7]\n",
      "the 第1次循环\n",
      "0A0B\n",
      "Please input a number between 1000~9999\n",
      "607\n",
      "[6, 7]\n",
      "the 第0次循环\n",
      "0A0B\n",
      "Please input a number between 1000~9999\n",
      "fdif \n"
     ]
    },
    {
     "ename": "KeyboardInterrupt",
     "evalue": "",
     "output_type": "error",
     "traceback": [
      "\u001b[1;31m---------------------------------------------------------------------------\u001b[0m",
      "\u001b[1;31mKeyboardInterrupt\u001b[0m                         Traceback (most recent call last)",
      "\u001b[1;32mc:\\users\\liuyun\\appdata\\local\\programs\\python\\python36-32\\lib\\site-packages\\ipykernel\\kernelbase.py\u001b[0m in \u001b[0;36m_input_request\u001b[1;34m(self, prompt, ident, parent, password)\u001b[0m\n\u001b[0;32m    729\u001b[0m             \u001b[1;32mtry\u001b[0m\u001b[1;33m:\u001b[0m\u001b[1;33m\u001b[0m\u001b[0m\n\u001b[1;32m--> 730\u001b[1;33m                 \u001b[0mident\u001b[0m\u001b[1;33m,\u001b[0m \u001b[0mreply\u001b[0m \u001b[1;33m=\u001b[0m \u001b[0mself\u001b[0m\u001b[1;33m.\u001b[0m\u001b[0msession\u001b[0m\u001b[1;33m.\u001b[0m\u001b[0mrecv\u001b[0m\u001b[1;33m(\u001b[0m\u001b[0mself\u001b[0m\u001b[1;33m.\u001b[0m\u001b[0mstdin_socket\u001b[0m\u001b[1;33m,\u001b[0m \u001b[1;36m0\u001b[0m\u001b[1;33m)\u001b[0m\u001b[1;33m\u001b[0m\u001b[0m\n\u001b[0m\u001b[0;32m    731\u001b[0m             \u001b[1;32mexcept\u001b[0m \u001b[0mException\u001b[0m\u001b[1;33m:\u001b[0m\u001b[1;33m\u001b[0m\u001b[0m\n",
      "\u001b[1;32mc:\\users\\liuyun\\appdata\\local\\programs\\python\\python36-32\\lib\\site-packages\\jupyter_client\\session.py\u001b[0m in \u001b[0;36mrecv\u001b[1;34m(self, socket, mode, content, copy)\u001b[0m\n\u001b[0;32m    795\u001b[0m         \u001b[1;32mtry\u001b[0m\u001b[1;33m:\u001b[0m\u001b[1;33m\u001b[0m\u001b[0m\n\u001b[1;32m--> 796\u001b[1;33m             \u001b[0mmsg_list\u001b[0m \u001b[1;33m=\u001b[0m \u001b[0msocket\u001b[0m\u001b[1;33m.\u001b[0m\u001b[0mrecv_multipart\u001b[0m\u001b[1;33m(\u001b[0m\u001b[0mmode\u001b[0m\u001b[1;33m,\u001b[0m \u001b[0mcopy\u001b[0m\u001b[1;33m=\u001b[0m\u001b[0mcopy\u001b[0m\u001b[1;33m)\u001b[0m\u001b[1;33m\u001b[0m\u001b[0m\n\u001b[0m\u001b[0;32m    797\u001b[0m         \u001b[1;32mexcept\u001b[0m \u001b[0mzmq\u001b[0m\u001b[1;33m.\u001b[0m\u001b[0mZMQError\u001b[0m \u001b[1;32mas\u001b[0m \u001b[0me\u001b[0m\u001b[1;33m:\u001b[0m\u001b[1;33m\u001b[0m\u001b[0m\n",
      "\u001b[1;32mc:\\users\\liuyun\\appdata\\local\\programs\\python\\python36-32\\lib\\site-packages\\zmq\\sugar\\socket.py\u001b[0m in \u001b[0;36mrecv_multipart\u001b[1;34m(self, flags, copy, track)\u001b[0m\n\u001b[0;32m    394\u001b[0m         \"\"\"\n\u001b[1;32m--> 395\u001b[1;33m         \u001b[0mparts\u001b[0m \u001b[1;33m=\u001b[0m \u001b[1;33m[\u001b[0m\u001b[0mself\u001b[0m\u001b[1;33m.\u001b[0m\u001b[0mrecv\u001b[0m\u001b[1;33m(\u001b[0m\u001b[0mflags\u001b[0m\u001b[1;33m,\u001b[0m \u001b[0mcopy\u001b[0m\u001b[1;33m=\u001b[0m\u001b[0mcopy\u001b[0m\u001b[1;33m,\u001b[0m \u001b[0mtrack\u001b[0m\u001b[1;33m=\u001b[0m\u001b[0mtrack\u001b[0m\u001b[1;33m)\u001b[0m\u001b[1;33m]\u001b[0m\u001b[1;33m\u001b[0m\u001b[0m\n\u001b[0m\u001b[0;32m    396\u001b[0m         \u001b[1;31m# have first part already, only loop while more to receive\u001b[0m\u001b[1;33m\u001b[0m\u001b[1;33m\u001b[0m\u001b[0m\n",
      "\u001b[1;32mzmq\\backend\\cython\\socket.pyx\u001b[0m in \u001b[0;36mzmq.backend.cython.socket.Socket.recv (zmq\\backend\\cython\\socket.c:7692)\u001b[1;34m()\u001b[0m\n",
      "\u001b[1;32mzmq\\backend\\cython\\socket.pyx\u001b[0m in \u001b[0;36mzmq.backend.cython.socket.Socket.recv (zmq\\backend\\cython\\socket.c:7469)\u001b[1;34m()\u001b[0m\n",
      "\u001b[1;32mzmq\\backend\\cython\\socket.pyx\u001b[0m in \u001b[0;36mzmq.backend.cython.socket._recv_copy (zmq\\backend\\cython\\socket.c:2353)\u001b[1;34m()\u001b[0m\n",
      "\u001b[1;32mc:\\users\\liuyun\\appdata\\local\\programs\\python\\python36-32\\lib\\site-packages\\zmq\\backend\\cython\\checkrc.pxd\u001b[0m in \u001b[0;36mzmq.backend.cython.checkrc._check_rc (zmq\\backend\\cython\\socket.c:9706)\u001b[1;34m()\u001b[0m\n",
      "\u001b[1;31mKeyboardInterrupt\u001b[0m: ",
      "\nDuring handling of the above exception, another exception occurred:\n",
      "\u001b[1;31mKeyboardInterrupt\u001b[0m                         Traceback (most recent call last)",
      "\u001b[1;32m<ipython-input-17-f5d65fa1ec10>\u001b[0m in \u001b[0;36m<module>\u001b[1;34m()\u001b[0m\n\u001b[0;32m     30\u001b[0m \u001b[0mi\u001b[0m\u001b[1;33m=\u001b[0m\u001b[1;36m0\u001b[0m\u001b[1;33m\u001b[0m\u001b[0m\n\u001b[0;32m     31\u001b[0m \u001b[1;32mwhile\u001b[0m \u001b[0mi\u001b[0m\u001b[1;33m<\u001b[0m\u001b[1;36m10\u001b[0m\u001b[1;33m:\u001b[0m\u001b[1;33m\u001b[0m\u001b[0m\n\u001b[1;32m---> 32\u001b[1;33m     \u001b[0mg\u001b[0m\u001b[1;33m=\u001b[0m\u001b[0minput\u001b[0m\u001b[1;33m(\u001b[0m\u001b[1;34m\"Please input a number between 1000~9999\\n\"\u001b[0m\u001b[1;33m)\u001b[0m\u001b[1;33m\u001b[0m\u001b[0m\n\u001b[0m\u001b[0;32m     33\u001b[0m     \u001b[1;32mif\u001b[0m \u001b[0mg\u001b[0m\u001b[1;33m.\u001b[0m\u001b[0misdigit\u001b[0m\u001b[1;33m(\u001b[0m\u001b[1;33m)\u001b[0m\u001b[1;33m:\u001b[0m\u001b[1;33m\u001b[0m\u001b[0m\n\u001b[0;32m     34\u001b[0m         \u001b[0mcompare_posi_value\u001b[0m\u001b[1;33m(\u001b[0m\u001b[0mtag_list\u001b[0m\u001b[1;33m,\u001b[0m\u001b[0mg\u001b[0m\u001b[1;33m)\u001b[0m\u001b[1;33m\u001b[0m\u001b[0m\n",
      "\u001b[1;32mc:\\users\\liuyun\\appdata\\local\\programs\\python\\python36-32\\lib\\site-packages\\ipykernel\\kernelbase.py\u001b[0m in \u001b[0;36mraw_input\u001b[1;34m(self, prompt)\u001b[0m\n\u001b[0;32m    703\u001b[0m             \u001b[0mself\u001b[0m\u001b[1;33m.\u001b[0m\u001b[0m_parent_ident\u001b[0m\u001b[1;33m,\u001b[0m\u001b[1;33m\u001b[0m\u001b[0m\n\u001b[0;32m    704\u001b[0m             \u001b[0mself\u001b[0m\u001b[1;33m.\u001b[0m\u001b[0m_parent_header\u001b[0m\u001b[1;33m,\u001b[0m\u001b[1;33m\u001b[0m\u001b[0m\n\u001b[1;32m--> 705\u001b[1;33m             \u001b[0mpassword\u001b[0m\u001b[1;33m=\u001b[0m\u001b[1;32mFalse\u001b[0m\u001b[1;33m,\u001b[0m\u001b[1;33m\u001b[0m\u001b[0m\n\u001b[0m\u001b[0;32m    706\u001b[0m         )\n\u001b[0;32m    707\u001b[0m \u001b[1;33m\u001b[0m\u001b[0m\n",
      "\u001b[1;32mc:\\users\\liuyun\\appdata\\local\\programs\\python\\python36-32\\lib\\site-packages\\ipykernel\\kernelbase.py\u001b[0m in \u001b[0;36m_input_request\u001b[1;34m(self, prompt, ident, parent, password)\u001b[0m\n\u001b[0;32m    733\u001b[0m             \u001b[1;32mexcept\u001b[0m \u001b[0mKeyboardInterrupt\u001b[0m\u001b[1;33m:\u001b[0m\u001b[1;33m\u001b[0m\u001b[0m\n\u001b[0;32m    734\u001b[0m                 \u001b[1;31m# re-raise KeyboardInterrupt, to truncate traceback\u001b[0m\u001b[1;33m\u001b[0m\u001b[1;33m\u001b[0m\u001b[0m\n\u001b[1;32m--> 735\u001b[1;33m                 \u001b[1;32mraise\u001b[0m \u001b[0mKeyboardInterrupt\u001b[0m\u001b[1;33m\u001b[0m\u001b[0m\n\u001b[0m\u001b[0;32m    736\u001b[0m             \u001b[1;32melse\u001b[0m\u001b[1;33m:\u001b[0m\u001b[1;33m\u001b[0m\u001b[0m\n\u001b[0;32m    737\u001b[0m                 \u001b[1;32mbreak\u001b[0m\u001b[1;33m\u001b[0m\u001b[0m\n",
      "\u001b[1;31mKeyboardInterrupt\u001b[0m: "
     ]
    }
   ],
   "source": [
    "import random\n",
    "\n",
    "def compare_posi_value(targ_list=None,gue_list=None):\n",
    "    a=0\n",
    "    posi_value_flag=0\n",
    "    value_flag=0\n",
    "    targ2=[]\n",
    "    while a<len(targ_list):\n",
    "        print(targ_list)#for debug\n",
    "        print(f\"the 第{a}次循环\")\n",
    "        targ2=targ_list\n",
    "        if gue_list[a]==targ_list[a]:\n",
    "            posi_value_flag+=1\n",
    "            a+=1\n",
    "        else:\n",
    "            targ2.pop(a)\n",
    "            if gue_list[a] in targ2:\n",
    "                a+=1\n",
    "                value_flag+=1\n",
    "            else:\n",
    "                a+=1\n",
    "    print (f\"{posi_value_flag}A{value_flag}B\")\n",
    "\n",
    "tag_list=random.sample(range(0,9),4)\n",
    "\n",
    "while tag_list[0]==0:\n",
    "    random.shuffle(tag_list)\n",
    "\n",
    "print(tag_list)# for debug\n",
    "i=0\n",
    "while i<10:\n",
    "    g=input(\"Please input a number between 1000~9999\\n\")\n",
    "    if g.isdigit():\n",
    "        compare_posi_value(tag_list,g)\n",
    "        i+=1\n",
    "    else:\n",
    "        print(\"Please input a number!NO other type!\\n\")"
   ]
  },
  {
   "cell_type": "markdown",
   "metadata": {},
   "source": [
    "可以看出运行了一次，之后因为`pop`就将目标list也取出了一个元素，导致目标list逐渐变短，因此，我们可以猜想，python在运行时是按照指针的形式指向某个数组的，对改变量的操作，直接指向了这个指针位置。因此，导致我的目标list逐渐变短。\n",
    "请看："
   ]
  },
  {
   "cell_type": "code",
   "execution_count": 18,
   "metadata": {},
   "outputs": [
    {
     "name": "stdout",
     "output_type": "stream",
     "text": [
      "[1, 3]\n"
     ]
    }
   ],
   "source": [
    "a=[1,2,3]\n",
    "b=a\n",
    "b.pop(1)\n",
    "print(a)"
   ]
  },
  {
   "cell_type": "markdown",
   "metadata": {},
   "source": [
    "因此，list之间的赋值可能是通过指针进行的， 关键问题就是：**如何保证对数组操作不影响原始数组？**\n",
    "再次更改代码："
   ]
  },
  {
   "cell_type": "code",
   "execution_count": null,
   "metadata": {
    "collapsed": true
   },
   "outputs": [],
   "source": [
    "import random\n",
    "\n",
    "def compare_posi_value(targ_list=None,gue_list=None):\n",
    "    a=0\n",
    "    posi_value_flag=0\n",
    "    value_flag=0\n",
    "    while a<len(targ_list):\n",
    "        #print(targ_list)#for debug\n",
    "        print(f\"the 第{a}次循环\")\n",
    "        print(gue_list[a])#\n",
    "        print(targ_list[a])#\n",
    "        if gue_list[a] == targ_list[a]:##如何判断都不为真，if后面的语句未执行。why？\n",
    "            posi_value_flag+=1\n",
    "            print(posi_value_flag,f\"x={x}\")\n",
    "            a+=1\n",
    "            print(f\"posi_value_flag{posi_value_flag}\")\n",
    "        else:\n",
    "            if gue_list[a] in [x!=targ_list[a] for x in targ_list]:\n",
    "                a+=1\n",
    "                value_flag+=1\n",
    "                print(\"运行了第一个else\")\n",
    "            else:\n",
    "                a+=1\n",
    "                print(\"运行了最后一个else\")\n",
    "\n",
    "    print (f\"{posi_value_flag}A{value_flag}B\")\n",
    "\n",
    "tag_list=random.sample(range(0,9),4)\n",
    "\n",
    "while tag_list[0]==0:\n",
    "    random.shuffle(tag_list)\n",
    "\n",
    "print(tag_list)# for debug\n",
    "i=0\n",
    "while i<10:\n",
    "    g=input(\"Please input a number between 1000~9999\\n\")\n",
    "    if g.isdigit():\n",
    "        compare_posi_value(tag_list,g)\n",
    "        i+=1\n",
    "    else:\n",
    "        print(\"Please input a number!NO other type!\\n\")\n"
   ]
  },
  {
   "cell_type": "code",
   "execution_count": null,
   "metadata": {
    "collapsed": true
   },
   "outputs": [],
   "source": []
  }
 ],
 "metadata": {
  "kernelspec": {
   "display_name": "Python 3",
   "language": "python",
   "name": "python3"
  },
  "language_info": {
   "codemirror_mode": {
    "name": "ipython",
    "version": 3
   },
   "file_extension": ".py",
   "mimetype": "text/x-python",
   "name": "python",
   "nbconvert_exporter": "python",
   "pygments_lexer": "ipython3",
   "version": "3.6.2"
  }
 },
 "nbformat": 4,
 "nbformat_minor": 2
}
